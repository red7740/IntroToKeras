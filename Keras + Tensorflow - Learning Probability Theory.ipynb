{
 "cells": [
  {
   "cell_type": "markdown",
   "metadata": {},
   "source": [
    "<img src='./data/k_t.jpg'>\n",
    "<center><h1>A framework for deep learning</h1></center>\n"
   ]
  },
  {
   "cell_type": "markdown",
   "metadata": {},
   "source": [
    "# Problem Introduction\n"
   ]
  },
  {
   "cell_type": "markdown",
   "metadata": {},
   "source": [
    "## The Monte Hall Paradox"
   ]
  },
  {
   "cell_type": "code",
   "execution_count": 228,
   "metadata": {
    "scrolled": true
   },
   "outputs": [
    {
     "data": {
      "text/html": [
       "<iframe width=\"560\" height=\"315\" src=\"https://www.youtube.com/embed/9vRUxbzJZ9Y\" frameborder=\"0\" allow=\"accelerometer; autoplay; encrypted-media; gyroscope; picture-in-picture\" allowfullscreen></iframe>"
      ],
      "text/plain": [
       "<IPython.core.display.HTML object>"
      ]
     },
     "execution_count": 228,
     "metadata": {},
     "output_type": "execute_result"
    }
   ],
   "source": [
    "from IPython.display import HTML\n",
    "\n",
    "HTML('<iframe width=\"560\" height=\"315\" src=\"https://www.youtube.com/embed/9vRUxbzJZ9Y\" frameborder=\"0\" allow=\"accelerometer; autoplay; encrypted-media; gyroscope; picture-in-picture\" allowfullscreen></iframe>')    "
   ]
  },
  {
   "cell_type": "markdown",
   "metadata": {},
   "source": [
    "<h2>So...</h2>\n",
    "<p>\n",
    "Can we train a Neural Network to accurately select the correct door? <br><br>In other words, can a neural network 'learn' conditional probability?\n",
    "</p>"
   ]
  },
  {
   "cell_type": "markdown",
   "metadata": {},
   "source": [
    "## Data - Simulation"
   ]
  },
  {
   "cell_type": "code",
   "execution_count": 285,
   "metadata": {},
   "outputs": [],
   "source": [
    "import numpy as np\n",
    "\n",
    "doors = [1,2,3]\n",
    "\n",
    "first_choice = np.ceil(np.random.rand(1000)*3).astype(int)\n",
    "target = np.ceil(np.random.rand(1000)*3).astype(int)"
   ]
  },
  {
   "cell_type": "code",
   "execution_count": 286,
   "metadata": {},
   "outputs": [
    {
     "data": {
      "text/plain": [
       "343"
      ]
     },
     "execution_count": 286,
     "metadata": {},
     "output_type": "execute_result"
    }
   ],
   "source": [
    "np.sum(first_choice==target)"
   ]
  },
  {
   "cell_type": "code",
   "execution_count": 287,
   "metadata": {},
   "outputs": [],
   "source": [
    "sim = []\n",
    "\n",
    "for i in range(len(first_choice)):\n",
    "    d = doors.copy()\n",
    "\n",
    "    if first_choice[i] == target[i]:\n",
    "        d.remove(first_choice[i])\n",
    "        rand_index = np.random.randint(0,2)\n",
    "        shown = d[rand_index]\n",
    "    else:\n",
    "        d.remove(first_choice[i])\n",
    "        d.remove(target[i])\n",
    "        shown = d[0]        \n",
    "    row = [first_choice[i], shown ,target[i]]\n",
    "    sim.append(row)           "
   ]
  },
  {
   "cell_type": "code",
   "execution_count": 288,
   "metadata": {},
   "outputs": [],
   "source": [
    "import pandas as pd\n",
    "sim = pd.DataFrame(sim, columns=['First Choice', 'Door Shown', 'Target'])"
   ]
  },
  {
   "cell_type": "code",
   "execution_count": 289,
   "metadata": {},
   "outputs": [
    {
     "data": {
      "text/html": [
       "<div>\n",
       "<style scoped>\n",
       "    .dataframe tbody tr th:only-of-type {\n",
       "        vertical-align: middle;\n",
       "    }\n",
       "\n",
       "    .dataframe tbody tr th {\n",
       "        vertical-align: top;\n",
       "    }\n",
       "\n",
       "    .dataframe thead th {\n",
       "        text-align: right;\n",
       "    }\n",
       "</style>\n",
       "<table border=\"1\" class=\"dataframe\">\n",
       "  <thead>\n",
       "    <tr style=\"text-align: right;\">\n",
       "      <th></th>\n",
       "      <th>First Choice</th>\n",
       "      <th>Door Shown</th>\n",
       "      <th>Target</th>\n",
       "    </tr>\n",
       "  </thead>\n",
       "  <tbody>\n",
       "    <tr>\n",
       "      <th>0</th>\n",
       "      <td>3</td>\n",
       "      <td>1</td>\n",
       "      <td>3</td>\n",
       "    </tr>\n",
       "    <tr>\n",
       "      <th>1</th>\n",
       "      <td>3</td>\n",
       "      <td>1</td>\n",
       "      <td>2</td>\n",
       "    </tr>\n",
       "    <tr>\n",
       "      <th>2</th>\n",
       "      <td>1</td>\n",
       "      <td>2</td>\n",
       "      <td>1</td>\n",
       "    </tr>\n",
       "    <tr>\n",
       "      <th>3</th>\n",
       "      <td>2</td>\n",
       "      <td>1</td>\n",
       "      <td>3</td>\n",
       "    </tr>\n",
       "    <tr>\n",
       "      <th>4</th>\n",
       "      <td>2</td>\n",
       "      <td>3</td>\n",
       "      <td>1</td>\n",
       "    </tr>\n",
       "  </tbody>\n",
       "</table>\n",
       "</div>"
      ],
      "text/plain": [
       "   First Choice  Door Shown  Target\n",
       "0             3           1       3\n",
       "1             3           1       2\n",
       "2             1           2       1\n",
       "3             2           1       3\n",
       "4             2           3       1"
      ]
     },
     "execution_count": 289,
     "metadata": {},
     "output_type": "execute_result"
    }
   ],
   "source": [
    "sim.head()"
   ]
  },
  {
   "cell_type": "code",
   "execution_count": 290,
   "metadata": {},
   "outputs": [],
   "source": [
    "assert(np.sum(sim['First Choice'] == sim['Target']) != 0) # the first choice is the target some of the time\n",
    "assert(np.sum(sim['First Choice'] == sim['Door Shown']) == 0) # the door shown is never the first choice\n",
    "assert(np.sum(sim['Target'] == sim['Door Shown']) == 0) # the door shown is never the target"
   ]
  },
  {
   "cell_type": "code",
   "execution_count": 291,
   "metadata": {},
   "outputs": [],
   "source": [
    "from keras.utils.np_utils import to_categorical\n",
    "fc = to_categorical(sim['First Choice']-1)\n",
    "ds = to_categorical(sim['Door Shown']-1)\n",
    "t = sim['Target']"
   ]
  },
  {
   "cell_type": "code",
   "execution_count": 292,
   "metadata": {},
   "outputs": [],
   "source": [
    "data = np.concatenate([fc,ds], axis=1)"
   ]
  },
  {
   "cell_type": "code",
   "execution_count": 293,
   "metadata": {},
   "outputs": [
    {
     "data": {
      "text/plain": [
       "(1000, 6)"
      ]
     },
     "execution_count": 293,
     "metadata": {},
     "output_type": "execute_result"
    }
   ],
   "source": [
    "data.shape"
   ]
  },
  {
   "cell_type": "code",
   "execution_count": 294,
   "metadata": {},
   "outputs": [
    {
     "data": {
      "text/plain": [
       "(1000,)"
      ]
     },
     "execution_count": 294,
     "metadata": {},
     "output_type": "execute_result"
    }
   ],
   "source": [
    "t.shape"
   ]
  },
  {
   "cell_type": "code",
   "execution_count": 295,
   "metadata": {},
   "outputs": [],
   "source": [
    "from sklearn.model_selection import train_test_split\n",
    "X_train, X_test, y_train, y_test = train_test_split(data,t ,test_size=0.20, random_state=42)"
   ]
  },
  {
   "cell_type": "code",
   "execution_count": 296,
   "metadata": {},
   "outputs": [],
   "source": [
    "y_train = to_categorical(y_train-1)"
   ]
  },
  {
   "cell_type": "code",
   "execution_count": null,
   "metadata": {},
   "outputs": [],
   "source": []
  },
  {
   "cell_type": "markdown",
   "metadata": {},
   "source": [
    "### Another Classification Model via the Keras Sequential API"
   ]
  },
  {
   "cell_type": "code",
   "execution_count": 297,
   "metadata": {},
   "outputs": [
    {
     "name": "stdout",
     "output_type": "stream",
     "text": [
      "_________________________________________________________________\n",
      "Layer (type)                 Output Shape              Param #   \n",
      "=================================================================\n",
      "dense_132 (Dense)            (None, 6)                 42        \n",
      "_________________________________________________________________\n",
      "dense_133 (Dense)            (None, 6)                 42        \n",
      "_________________________________________________________________\n",
      "dense_134 (Dense)            (None, 6)                 42        \n",
      "_________________________________________________________________\n",
      "dense_135 (Dense)            (None, 6)                 42        \n",
      "_________________________________________________________________\n",
      "dense_136 (Dense)            (None, 3)                 21        \n",
      "=================================================================\n",
      "Total params: 189\n",
      "Trainable params: 189\n",
      "Non-trainable params: 0\n",
      "_________________________________________________________________\n"
     ]
    }
   ],
   "source": [
    "from keras.models import Sequential\n",
    "\n",
    "#get an instance of a Sequential Model\n",
    "model = Sequential()\n",
    "\n",
    "from keras.layers import Dense\n",
    "\n",
    "u_num = X_train.shape[1]\n",
    "\n",
    "#add some layers to the model\n",
    "model.add(Dense(units=u_num, activation='relu', input_dim=X_train.shape[1]))#This is the input layer\n",
    "model.add(Dense(units=u_num, activation='relu', input_dim=u_num))#This is a hidden layer\n",
    "model.add(Dense(units=u_num, activation='relu', input_dim=u_num))#This is a hidden layer\n",
    "model.add(Dense(units=u_num, activation='relu', input_dim=u_num))#This is a hidden layer\n",
    "model.add(Dense(units=y_train.shape[1], activation='softmax', input_dim=u_num))#This is the output layer\n",
    "\n",
    "model.compile(loss='categorical_crossentropy',\n",
    "              optimizer='adagrad',\n",
    "              metrics=['accuracy'])\n",
    "\n",
    "model.summary()"
   ]
  },
  {
   "cell_type": "code",
   "execution_count": 242,
   "metadata": {
    "scrolled": true
   },
   "outputs": [],
   "source": [
    "history = model.fit(X_train, y_train, epochs=100, batch_size=25, validation_split=0.2, shuffle=True, verbose=0)"
   ]
  },
  {
   "cell_type": "code",
   "execution_count": 243,
   "metadata": {},
   "outputs": [
    {
     "data": {
      "image/png": "[encoded data removed]",
      "text/plain": [
       "<Figure size 576x360 with 1 Axes>"
      ]
     },
     "metadata": {},
     "output_type": "display_data"
    }
   ],
   "source": [
    "import matplotlib.pyplot as plt\n",
    "\n",
    "fig,ax = plt.subplots(figsize=(8,5))\n",
    "ax.set_title('Train history - Categorical Accuracy')\n",
    "ax.plot(history.history['val_acc'], label='val')\n",
    "ax.plot(history.history['acc'], label='train')\n",
    "ax.legend();"
   ]
  },
  {
   "cell_type": "markdown",
   "metadata": {},
   "source": [
    "<p>Now we will try to predict the holdout set</p>"
   ]
  },
  {
   "cell_type": "code",
   "execution_count": 244,
   "metadata": {},
   "outputs": [],
   "source": [
    "pred = model.predict(X_test)"
   ]
  },
  {
   "cell_type": "markdown",
   "metadata": {},
   "source": [
    "<p>pred is an array of arrays of probabilities, so we can use argmax to pull the highest for each instance\n",
    "    <br><br>\n",
    "In this case, the Door is 1,2,3 so argmax+1 will produce the actual class label</p>"
   ]
  },
  {
   "cell_type": "code",
   "execution_count": 245,
   "metadata": {},
   "outputs": [],
   "source": [
    "predictions = [np.argmax(x) + 1 for x in pred]"
   ]
  },
  {
   "cell_type": "markdown",
   "metadata": {},
   "source": [
    "<p>And compute an accuracy score</p>"
   ]
  },
  {
   "cell_type": "code",
   "execution_count": 246,
   "metadata": {},
   "outputs": [
    {
     "data": {
      "text/plain": [
       "0.67"
      ]
     },
     "execution_count": 246,
     "metadata": {},
     "output_type": "execute_result"
    }
   ],
   "source": [
    "from sklearn.metrics import accuracy_score\n",
    "accuracy_score(y_test, predictions)"
   ]
  },
  {
   "cell_type": "markdown",
   "metadata": {},
   "source": [
    "<p>This result doesn't seem like a great accuracy. It only wins a car 2/3 of the time, but...</p>"
   ]
  },
  {
   "cell_type": "markdown",
   "metadata": {},
   "source": [
    "<hr><p>Let's unpack this</p>"
   ]
  },
  {
   "cell_type": "code",
   "execution_count": 247,
   "metadata": {},
   "outputs": [
    {
     "data": {
      "text/plain": [
       "[3, 3, 2, 3, 3, 3, 1, 1, 2, 1]"
      ]
     },
     "execution_count": 247,
     "metadata": {},
     "output_type": "execute_result"
    }
   ],
   "source": [
    "#first guess is one-hot in the first three columns of the array so we will reverse the encoding\n",
    "#by selecting the index that has the highest value -- 1\n",
    "first_guesses = X_test[:,:3]\n",
    "first_guesses = [np.argmax(x) + 1 for x in first_guesses]\n",
    "first_guesses[:10]"
   ]
  },
  {
   "cell_type": "code",
   "execution_count": 248,
   "metadata": {},
   "outputs": [
    {
     "data": {
      "text/plain": [
       "[2, 1, 3, 1, 2, 1, 2, 3, 3, 3]"
      ]
     },
     "execution_count": 248,
     "metadata": {},
     "output_type": "execute_result"
    }
   ],
   "source": [
    "#door shown is one-hot in the last three columns of the array so we will reverse the encoding\n",
    "#by selecting the index that has the highest value -- 1\n",
    "door_shown = X_test[:,3:]\n",
    "door_shown = [np.argmax(x) + 1 for x in door_shown]\n",
    "door_shown[:10]"
   ]
  },
  {
   "cell_type": "code",
   "execution_count": 249,
   "metadata": {},
   "outputs": [
    {
     "data": {
      "text/plain": [
       "[1, 2, 1, 2, 1, 2, 3, 2, 1, 2]"
      ]
     },
     "execution_count": 249,
     "metadata": {},
     "output_type": "execute_result"
    }
   ],
   "source": [
    "#The first few values predicted\n",
    "predictions[:10]"
   ]
  },
  {
   "cell_type": "markdown",
   "metadata": {},
   "source": [
    "<p>So it appears to actually be accurately selecting the higher probability of winning a car in each case -- switch doors</p>"
   ]
  },
  {
   "cell_type": "code",
   "execution_count": 250,
   "metadata": {},
   "outputs": [
    {
     "data": {
      "text/plain": [
       "0"
      ]
     },
     "execution_count": 250,
     "metadata": {},
     "output_type": "execute_result"
    }
   ],
   "source": [
    "#Does it ever stick with its first guess?\n",
    "np.sum(first_guesses == predictions)"
   ]
  },
  {
   "cell_type": "markdown",
   "metadata": {},
   "source": [
    "<p>It turns out it switches every time, which means we have accurately modeled the Monty Hall Paradox ... <br>and have '<b>taught conditional probability</b>' to a <b>Neural Network<b></p><hr>"
   ]
  },
  {
   "cell_type": "markdown",
   "metadata": {},
   "source": [
    "## Teach a Neural Network to play Poker\n",
    "<p>\n",
    "Train a Neural network to produce a hold/fold decision based on the quality of their hand. </p>"
   ]
  },
  {
   "cell_type": "markdown",
   "metadata": {},
   "source": [
    "Data Dictionary:<br>\n",
    "   1) S1 �Suit of card #1�\n",
    "      Ordinal (1-4) representing {Hearts, Spades, Diamonds, Clubs}\n",
    "\n",
    "   2) C1 �Rank of card #1�\n",
    "      Numerical (1-13) representing (Ace, 2, 3, ... , Queen, King)\n",
    "\n",
    "   3) S2 �Suit of card #2�\n",
    "      Ordinal (1-4) representing {Hearts, Spades, Diamonds, Clubs}\n",
    "\n",
    "   4) C2 �Rank of card #2�\n",
    "      Numerical (1-13) representing (Ace, 2, 3, ... , Queen, King)\n",
    "\n",
    "   5) S3 �Suit of card #3�\n",
    "      Ordinal (1-4) representing {Hearts, Spades, Diamonds, Clubs}\n",
    "\n",
    "   6) C3 �Rank of card #3�\n",
    "      Numerical (1-13) representing (Ace, 2, 3, ... , Queen, King)\n",
    "\n",
    "   7) S4 �Suit of card #4�\n",
    "      Ordinal (1-4) representing {Hearts, Spades, Diamonds, Clubs}\n",
    "\n",
    "   8) C4 �Rank of card #4�\n",
    "      Numerical (1-13) representing (Ace, 2, 3, ... , Queen, King)\n",
    "\n",
    "   9) S5 �Suit of card #5�\n",
    "      Ordinal (1-4) representing {Hearts, Spades, Diamonds, Clubs}\n",
    "\n",
    "   10) C5 �Rank of card 5�\n",
    "      Numerical (1-13) representing (Ace, 2, 3, ... , Queen, King)\n",
    "\n",
    "   11) CLASS �Poker Hand�\n",
    "      Ordinal (0-9)\n",
    "\n",
    "      0: Nothing in hand; not a recognized poker hand \n",
    "      1: One pair; one pair of equal ranks within five cards\n",
    "      2: Two pairs; two pairs of equal ranks within five cards\n",
    "      3: Three of a kind; three equal ranks within five cards\n",
    "      4: Straight; five cards, sequentially ranked with no gaps\n",
    "      5: Flush; five cards with the same suit\n",
    "      6: Full house; pair + different rank three of a kind\n",
    "      7: Four of a kind; four equal ranks within five cards\n",
    "      8: Straight flush; straight + flush\n",
    "      9: Royal flush; {Ace, King, Queen, Jack, Ten} + flush\n"
   ]
  },
  {
   "cell_type": "code",
   "execution_count": 251,
   "metadata": {},
   "outputs": [
    {
     "name": "stdout",
     "output_type": "stream",
     "text": [
      "(25009, 11)\n"
     ]
    },
    {
     "data": {
      "text/plain": [
       "0    12493\n",
       "1    10599\n",
       "2     1206\n",
       "3      513\n",
       "4       93\n",
       "5       54\n",
       "6       36\n",
       "7        6\n",
       "8        5\n",
       "9        4\n",
       "Name: Class, dtype: int64"
      ]
     },
     "execution_count": 251,
     "metadata": {},
     "output_type": "execute_result"
    }
   ],
   "source": [
    "import pandas as pd\n",
    "df = pd.read_csv(r'./data/poker_train.d',engine='c')\n",
    "df.columns = ['S1','C1','S2','C2','S3','C3','S4','C4','S5','C5','Class']\n",
    "print(df.shape)\n",
    "df.Class.value_counts()"
   ]
  },
  {
   "cell_type": "markdown",
   "metadata": {},
   "source": [
    "## Poker play simulation"
   ]
  },
  {
   "cell_type": "markdown",
   "metadata": {},
   "source": [
    "<p>We will simulate one hundred thousand deals</p>"
   ]
  },
  {
   "cell_type": "code",
   "execution_count": 252,
   "metadata": {},
   "outputs": [],
   "source": [
    "import numpy as np\n",
    "\n",
    "data = []\n",
    "ten_thousand_hands = []\n",
    "\n",
    "#simulate 100,000 hands\n",
    "for _ in range(100000):\n",
    "    hand = []\n",
    "    self_cards = []\n",
    "    first = True\n",
    "    #deal 4 random hands\n",
    "    for __ in range(4):\n",
    "        #we aren't worrying about whether cards have already been dealt... might be a stacked deck\n",
    "        random_number = np.random.randint(0,df.shape[0])\n",
    "        hand.append(df.Class.iloc[random_number])\n",
    "        \n",
    "        #use the same index to get player cards\n",
    "        if first == True:\n",
    "            self_cards.append(df.iloc[random_number])\n",
    "            first = False\n",
    "    \n",
    "    data.append(self_cards)\n",
    "    ten_thousand_hands.append(hand)\n",
    "\n",
    "#Turn into dataframes -- self is the nn's hand, p1-p3 are opposing players\n",
    "ten_thousand_hands=pd.DataFrame(ten_thousand_hands, columns=['self', 'p1', 'p2', 'p3'])\n",
    "\n",
    "#theses are the corresponding cards in the player's hand for each of the win/loss results\n",
    "data=pd.DataFrame(np.array(data).reshape(-1,11), columns=['C1', 'S1', 'C2','S2','C3', 'S3', 'C4','S4','C5', 'S5', 'Class'])"
   ]
  },
  {
   "cell_type": "code",
   "execution_count": 253,
   "metadata": {},
   "outputs": [
    {
     "name": "stdout",
     "output_type": "stream",
     "text": [
      "This is the data that the neural network sees as input\n",
      "\n",
      "   C1  S1  C2  S2  C3  S3  C4  S4  C5  S5  Class\n",
      "0   1   5   2   5   3   6   1   6   3  10      2\n",
      "1   4   8   3  11   1   8   1   1   1   2      1\n",
      "2   3   7   1   9   2   2   4   6   4   1      0\n",
      "3   2   7   4  10   2  12   1   3   1   2      0\n",
      "4   4  12   1   4   1  11   4   8   4   6      0\n",
      "\n",
      "\n",
      "This is the simulation of 100,000 hands\n",
      "\n",
      "   self  p1  p2  p3\n",
      "0     2   0   0   1\n",
      "1     1   1   0   0\n",
      "2     0   0   0   1\n",
      "3     0   0   1   1\n",
      "4     0   1   0   0\n"
     ]
    }
   ],
   "source": [
    "print('This is the data that the neural network sees as input\\n')\n",
    "print(data.head())\n",
    "\n",
    "print('\\n\\nThis is the simulation of 100,000 hands\\n')\n",
    "print(ten_thousand_hands.head())"
   ]
  },
  {
   "cell_type": "markdown",
   "metadata": {},
   "source": [
    "<p>Now we will produce a training target that is classed as :<br><br>\n",
    "2 - Player has the best quality hand<br>\n",
    "1 - Player has a hand that is tied with another player as highest quality hand<br>\n",
    "0 - Player has a hand of lower quality than at least one other player</p>"
   ]
  },
  {
   "cell_type": "code",
   "execution_count": 254,
   "metadata": {},
   "outputs": [
    {
     "name": "stderr",
     "output_type": "stream",
     "text": [
      "/opt/anaconda3/lib/python3.6/site-packages/numpy/core/fromnumeric.py:52: FutureWarning: 'argmax' is deprecated, use 'idxmax' instead. The behavior of 'argmax'\n",
      "will be corrected to return the positional maximum in the future.\n",
      "Use 'series.values.argmax' to get the position of the maximum now.\n",
      "  return getattr(obj, method)(*args, **kwds)\n"
     ]
    }
   ],
   "source": [
    "target = []\n",
    "players = {'self':0, 'p1':1,'p2':2,'p3':3}\n",
    "\n",
    "for row in range(ten_thousand_hands.shape[0]):\n",
    "    #self has the highest value hand \n",
    "    if (np.argmax(ten_thousand_hands.iloc[row]) == 'self') and (ten_thousand_hands.self.iloc[row] > ten_thousand_hands.iloc[row,1:].max()):\n",
    "        target.append(2)\n",
    "        \n",
    "    #self has hand equal to highest value at table\n",
    "    elif (np.argmax(ten_thousand_hands.iloc[row]) == 'self') and (ten_thousand_hands.self.iloc[row] == ten_thousand_hands.iloc[row,1:].max()):\n",
    "        target.append(1)\n",
    "        \n",
    "    #self does not have highest hand\n",
    "    else:\n",
    "        target.append(0)"
   ]
  },
  {
   "cell_type": "code",
   "execution_count": 255,
   "metadata": {},
   "outputs": [
    {
     "data": {
      "text/plain": [
       "0    53060\n",
       "1    35115\n",
       "2    11825\n",
       "dtype: int64"
      ]
     },
     "execution_count": 255,
     "metadata": {},
     "output_type": "execute_result"
    }
   ],
   "source": [
    "# How frequently does our player have the best hand?\n",
    "pd.Series(target).value_counts()"
   ]
  },
  {
   "cell_type": "markdown",
   "metadata": {},
   "source": [
    "<p>Sample of target data</p>"
   ]
  },
  {
   "cell_type": "code",
   "execution_count": 256,
   "metadata": {},
   "outputs": [
    {
     "data": {
      "text/plain": [
       "array([2, 1, 0, 0, 0, 0, 0, 0, 0, 1])"
      ]
     },
     "execution_count": 256,
     "metadata": {},
     "output_type": "execute_result"
    }
   ],
   "source": [
    "target=np.array(target)\n",
    "target[:10]"
   ]
  },
  {
   "cell_type": "markdown",
   "metadata": {},
   "source": [
    "### Categorical input features\n",
    "<p>Card Suits are categorical, so we will one-hot encode them</p>"
   ]
  },
  {
   "cell_type": "code",
   "execution_count": 257,
   "metadata": {},
   "outputs": [],
   "source": [
    "S1 = to_categorical(data.S1)\n",
    "S2 = to_categorical(data.S2)\n",
    "S3 = to_categorical(data.S3)\n",
    "S4 = to_categorical(data.S4)\n",
    "S5 = to_categorical(data.S5)"
   ]
  },
  {
   "cell_type": "code",
   "execution_count": 258,
   "metadata": {},
   "outputs": [],
   "source": [
    "#we will replace the suit columns with our one-hot arrays, so drop them from the dataset\n",
    "data.drop(['S1', 'S2','S3','S4','S5'], axis=1, inplace=True)"
   ]
  },
  {
   "cell_type": "code",
   "execution_count": 259,
   "metadata": {},
   "outputs": [
    {
     "data": {
      "text/plain": [
       "Index(['C1', 'C2', 'C3', 'C4', 'C5', 'Class'], dtype='object')"
      ]
     },
     "execution_count": 259,
     "metadata": {},
     "output_type": "execute_result"
    }
   ],
   "source": [
    "data.columns"
   ]
  },
  {
   "cell_type": "markdown",
   "metadata": {},
   "source": [
    "<p>The card values and class are ordinal, so we will scale them to [0,1] to avoid issues in training<br>\n",
    "    The easiest way to do that is with sklearn's MaxAbsScaler "
   ]
  },
  {
   "cell_type": "code",
   "execution_count": 260,
   "metadata": {},
   "outputs": [],
   "source": [
    "from sklearn.preprocessing import MaxAbsScaler\n",
    "scaler = MaxAbsScaler()\n",
    "data = scaler.fit_transform(data)"
   ]
  },
  {
   "cell_type": "markdown",
   "metadata": {},
   "source": [
    "<p>Finally, we will put the one-hot and scaled data back together</p>"
   ]
  },
  {
   "cell_type": "code",
   "execution_count": 261,
   "metadata": {},
   "outputs": [],
   "source": [
    "data = np.concatenate([np.array(data), S1, S2, S3, S4, S5], axis=1)"
   ]
  },
  {
   "cell_type": "markdown",
   "metadata": {},
   "source": [
    "### Train Test Split\n",
    "<p>Once again we will reserve holdout data for model evaluation after training"
   ]
  },
  {
   "cell_type": "code",
   "execution_count": 262,
   "metadata": {},
   "outputs": [],
   "source": [
    "from sklearn.model_selection import train_test_split\n",
    "X_train, X_test, y_train, y_test = train_test_split(data, target, test_size=0.25, random_state=42)"
   ]
  },
  {
   "cell_type": "markdown",
   "metadata": {},
   "source": [
    "### One Hot Encoding\n",
    "<p>The target is, again, a categorical label. As such, we wil lhave to one-hot encode it. <br> "
   ]
  },
  {
   "cell_type": "code",
   "execution_count": 263,
   "metadata": {},
   "outputs": [],
   "source": [
    "from keras.utils.np_utils import to_categorical\n",
    "y_train = to_categorical(y_train, num_classes=3)"
   ]
  },
  {
   "cell_type": "markdown",
   "metadata": {},
   "source": [
    "### Functional API\n",
    "<p>Keras has 2 apis for building models. The Sequential API will be sufficient for nearly every problem you will be faced wit h(multiple regression, image classification, etc<br><br>\n",
    "    \n",
    "BUT...\n",
    "\n",
    "<p>Sometimes we need a more complex architecture to solve more complex problems<br><br>\n",
    "We don't really need it, but it helps to see an example     "
   ]
  },
  {
   "cell_type": "code",
   "execution_count": 278,
   "metadata": {},
   "outputs": [
    {
     "name": "stdout",
     "output_type": "stream",
     "text": [
      "_________________________________________________________________\n",
      "Layer (type)                 Output Shape              Param #   \n",
      "=================================================================\n",
      "input_19 (InputLayer)        (None, 76)                0         \n",
      "_________________________________________________________________\n",
      "dense_118 (Dense)            (None, 76)                5852      \n",
      "_________________________________________________________________\n",
      "dense_119 (Dense)            (None, 76)                5852      \n",
      "_________________________________________________________________\n",
      "dense_120 (Dense)            (None, 76)                5852      \n",
      "_________________________________________________________________\n",
      "dense_121 (Dense)            (None, 3)                 231       \n",
      "=================================================================\n",
      "Total params: 17,787\n",
      "Trainable params: 17,787\n",
      "Non-trainable params: 0\n",
      "_________________________________________________________________\n"
     ]
    }
   ],
   "source": [
    "from keras.models import Model\n",
    "from keras.layers import Dense, Input\n",
    "from time import time\n",
    "from keras.callbacks import TensorBoard\n",
    "\n",
    "\n",
    "u_num = X_train.shape[1]\n",
    "n_classes = 3\n",
    "\n",
    "#add some layers to the model\n",
    "inpt = Input(shape=(X_train.shape[1],))\n",
    "l1 = Dense(u_num, activation='relu')(inpt)\n",
    "l2 = Dense(u_num, activation='relu')(l1)\n",
    "l3 = Dense(u_num, activation='relu')(l2)\n",
    "outp = Dense(n_classes, activation='softmax')(l3)\n",
    "\n",
    "model = Model(inputs=inpt, outputs=outp)\n",
    "\n",
    "tensorboard = TensorBoard(log_dir=\"logs/{}\".format(time()))\n",
    "\n",
    "model.compile(loss='categorical_crossentropy',\n",
    "              optimizer='adagrad',\n",
    "              metrics=['accuracy'])\n",
    "\n",
    "model.summary()"
   ]
  },
  {
   "cell_type": "code",
   "execution_count": 279,
   "metadata": {},
   "outputs": [],
   "source": [
    "history = model.fit(X_train, y_train, epochs=25, batch_size=1000, validation_split=0.4, verbose = 0,callbacks=[tensorboard])"
   ]
  },
  {
   "cell_type": "code",
   "execution_count": 280,
   "metadata": {},
   "outputs": [
    {
     "data": {
      "image/png": "[encoded data removed]",
      "text/plain": [
       "<Figure size 576x432 with 1 Axes>"
      ]
     },
     "metadata": {},
     "output_type": "display_data"
    }
   ],
   "source": [
    "import matplotlib.pyplot as plt\n",
    "import seaborn as sns\n",
    "sns.set()\n",
    "\n",
    "fig,ax = plt.subplots(figsize=(8,6))\n",
    "ax.set_title('Poker Hand Quality | Train History', fontsize=22)\n",
    "ax.plot(range(len(history.history['acc'])), history.history['acc'], label='train')\n",
    "ax.plot(range(len(history.history['acc'])), history.history['val_acc'], label='validate')\n",
    "ax.legend(fontsize=18)\n",
    "ax.set_ylim([0,1])\n",
    "plt.show();"
   ]
  },
  {
   "cell_type": "code",
   "execution_count": 267,
   "metadata": {},
   "outputs": [],
   "source": [
    "pred = model.predict(X_test)"
   ]
  },
  {
   "cell_type": "code",
   "execution_count": 268,
   "metadata": {},
   "outputs": [],
   "source": [
    "import numpy as np\n",
    "predictions = [np.argmax(p) for p in pred]"
   ]
  },
  {
   "cell_type": "code",
   "execution_count": 281,
   "metadata": {},
   "outputs": [
    {
     "name": "stdout",
     "output_type": "stream",
     "text": [
      "77.77%\n"
     ]
    }
   ],
   "source": [
    "from sklearn.metrics import accuracy_score\n",
    "acc = accuracy_score(y_test, predictions)\n",
    "print('{:.2%}'.format(acc))"
   ]
  },
  {
   "cell_type": "markdown",
   "metadata": {},
   "source": [
    "The NN predicts the quality of its hand against that of the other playerrs with a little over 78% accuracy. Let's look at the confusion matrix"
   ]
  },
  {
   "cell_type": "code",
   "execution_count": 282,
   "metadata": {},
   "outputs": [
    {
     "data": {
      "text/html": [
       "<div>\n",
       "<style scoped>\n",
       "    .dataframe tbody tr th:only-of-type {\n",
       "        vertical-align: middle;\n",
       "    }\n",
       "\n",
       "    .dataframe tbody tr th {\n",
       "        vertical-align: top;\n",
       "    }\n",
       "\n",
       "    .dataframe thead th {\n",
       "        text-align: right;\n",
       "    }\n",
       "</style>\n",
       "<table border=\"1\" class=\"dataframe\">\n",
       "  <thead>\n",
       "    <tr style=\"text-align: right;\">\n",
       "      <th></th>\n",
       "      <th>0</th>\n",
       "      <th>1</th>\n",
       "      <th>2</th>\n",
       "    </tr>\n",
       "  </thead>\n",
       "  <tbody>\n",
       "    <tr>\n",
       "      <th>0</th>\n",
       "      <td>10929</td>\n",
       "      <td>2178</td>\n",
       "      <td>105</td>\n",
       "    </tr>\n",
       "    <tr>\n",
       "      <th>1</th>\n",
       "      <td>1672</td>\n",
       "      <td>6840</td>\n",
       "      <td>201</td>\n",
       "    </tr>\n",
       "    <tr>\n",
       "      <th>2</th>\n",
       "      <td>1</td>\n",
       "      <td>1400</td>\n",
       "      <td>1674</td>\n",
       "    </tr>\n",
       "  </tbody>\n",
       "</table>\n",
       "</div>"
      ],
      "text/plain": [
       "       0     1     2\n",
       "0  10929  2178   105\n",
       "1   1672  6840   201\n",
       "2      1  1400  1674"
      ]
     },
     "execution_count": 282,
     "metadata": {},
     "output_type": "execute_result"
    }
   ],
   "source": [
    "import pandas as pd\n",
    "from sklearn.metrics import confusion_matrix\n",
    "pd.DataFrame(confusion_matrix(y_test, predictions), columns=[0,1,2])"
   ]
  },
  {
   "cell_type": "markdown",
   "metadata": {},
   "source": [
    "What was the NN holding on 2/0 incorrect predictions?"
   ]
  },
  {
   "cell_type": "code",
   "execution_count": 271,
   "metadata": {},
   "outputs": [],
   "source": [
    "classes = []\n",
    "for i in range(len(predictions)):\n",
    "    if predictions[i] == 2 and y_test[i] == 0:\n",
    "        classes.append(scaler.inverse_transform(X_test[i][:6].reshape(1,-1))[0,-1].astype(int))"
   ]
  },
  {
   "cell_type": "code",
   "execution_count": 272,
   "metadata": {},
   "outputs": [
    {
     "data": {
      "text/plain": [
       "2    94\n",
       "3     6\n",
       "1     4\n",
       "4     1\n",
       "dtype: int64"
      ]
     },
     "execution_count": 272,
     "metadata": {},
     "output_type": "execute_result"
    }
   ],
   "source": [
    "pd.Series(classes).value_counts()"
   ]
  },
  {
   "cell_type": "markdown",
   "metadata": {},
   "source": [
    "It most often incorrectly valued 2 pair as the highest hand at the table"
   ]
  },
  {
   "cell_type": "markdown",
   "metadata": {},
   "source": [
    "### Can you correctly value the quality of your poker hand greater than 75% of the time?\n",
    "<hr>"
   ]
  },
  {
   "cell_type": "markdown",
   "metadata": {},
   "source": [
    "## Challenge \n",
    "### Can you modify the training set, model architecture, or model training parameters to improve performance? \n",
    "<p><b>Ideas</b></p>\n",
    "<ul>\n",
    "    <li>More Intelligent Train Set<ul><li>Deal hands for all players based on standard 52 card deck</li></ul></li>\n",
    "    <li>Grid Search hyperparameters for model and training</li>\n",
    "    <li>Try alternate activation functions, layer widths, etc</li>    \n",
    "</ul>"
   ]
  },
  {
   "cell_type": "code",
   "execution_count": null,
   "metadata": {},
   "outputs": [],
   "source": []
  },
  {
   "cell_type": "markdown",
   "metadata": {},
   "source": [
    "### Exercise\n",
    "#### How few lines solve the Conditional Probability example above with the optimal outcome (switch every time)?"
   ]
  },
  {
   "cell_type": "code",
   "execution_count": null,
   "metadata": {},
   "outputs": [],
   "source": []
  },
  {
   "cell_type": "markdown",
   "metadata": {},
   "source": [
    "<hr>"
   ]
  },
  {
   "cell_type": "markdown",
   "metadata": {},
   "source": [
    "### Solution "
   ]
  },
  {
   "cell_type": "code",
   "execution_count": 312,
   "metadata": {},
   "outputs": [],
   "source": [
    "def switch_doors(c1, c2):\n",
    "    return [e for e in [1,2,3] if e not in [c1, c2]][0]"
   ]
  },
  {
   "cell_type": "code",
   "execution_count": 313,
   "metadata": {},
   "outputs": [
    {
     "name": "stdout",
     "output_type": "stream",
     "text": [
      "3\n",
      "1\n"
     ]
    }
   ],
   "source": [
    "print(switch_doors(1,2))\n",
    "print(switch_doors(3,2))"
   ]
  },
  {
   "cell_type": "code",
   "execution_count": null,
   "metadata": {},
   "outputs": [],
   "source": []
  }
 ],
 "metadata": {
  "kernelspec": {
   "display_name": "Python 3",
   "language": "python",
   "name": "python3"
  },
  "language_info": {
   "codemirror_mode": {
    "name": "ipython",
    "version": 3
   },
   "file_extension": ".py",
   "mimetype": "text/x-python",
   "name": "python",
   "nbconvert_exporter": "python",
   "pygments_lexer": "ipython3",
   "version": "3.6.5"
  }
 },
 "nbformat": 4,
 "nbformat_minor": 2
}
