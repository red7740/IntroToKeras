{
 "cells": [
  {
   "cell_type": "markdown",
   "metadata": {},
   "source": [
    "<img src='./data/k_t.jpg'>\n",
    "<center><h1>A framework for deep learning</h1></center>\n"
   ]
  },
  {
   "cell_type": "markdown",
   "metadata": {},
   "source": [
    "# Overview\n"
   ]
  },
  {
   "cell_type": "markdown",
   "metadata": {},
   "source": [
    "## Keras"
   ]
  },
  {
   "cell_type": "markdown",
   "metadata": {},
   "source": [
    "\n",
    "<p>\n",
    "Keras is a high-level neural networks API, written in Python and capable of running on top of TensorFlow, CNTK, or Theano. It was developed with a focus on enabling fast experimentation. Being able to go from idea to result with the least possible delay is key to doing good research.\n",
    "\n",
    "Use Keras if you need a deep learning library that:\n",
    "<ul>\n",
    "    <li>\n",
    "        Allows for easy and fast prototyping (through user friendliness, modularity, and extensibility).\n",
    "    </li>\n",
    "    <li>\n",
    "        Supports both convolutional networks and recurrent networks, as well as combinations of the two.\n",
    "    </li>\n",
    "    <li>\n",
    "        Runs seamlessly on CPU and GPU.\n",
    "    </li>\n",
    "</ul>\n",
    "</p>\n",
    "\n",
    "<p>\n",
    "    <h3>Guiding principles</h3>\n",
    "<ul>\n",
    "    <li>\n",
    "        <b>User friendliness</b>. Keras is an API designed for human beings, not machines. It puts user experience front and center. Keras follows best practices for reducing cognitive load: it offers consistent & simple APIs, it minimizes the number of user actions required for common use cases, and it provides clear and actionable feedback upon user error.\n",
    "    </li>\n",
    "    <li>\n",
    "      <b>Modularity</b>. A model is understood as a sequence or a graph of standalone, fully-configurable modules that can be plugged together with as few restrictions as possible. In particular, neural layers, cost functions, optimizers, initialization schemes, activation functions, regularization schemes are all standalone modules that you can combine to create new models.\n",
    "</li><li>\n",
    "    <b>Easy extensibility</b>. New modules are simple to add (as new classes and functions), and existing modules provide ample examples. To be able to easily create new modules allows for total expressiveness, making Keras suitable for advanced research.\n",
    "</li><li>\n",
    "    <b>Work with Python</b>. No separate models configuration files in a declarative format. Models are described in Python code, which is compact, easier to debug, and allows for ease of extensibility.\n",
    "</li></ul>\n",
    "</p>"
   ]
  },
  {
   "cell_type": "markdown",
   "metadata": {},
   "source": [
    "## Tensorflow"
   ]
  },
  {
   "cell_type": "markdown",
   "metadata": {},
   "source": [
    "<p>TensorFlow™ is an open source software library for <b>high performance numerical computation</b>. Its flexible architecture allows easy deployment of computation across a variety of platforms (CPUs, GPUs, TPUs), and from desktops to clusters of servers to mobile and edge devices. Originally developed by researchers and engineers from the Google Brain team within Google’s AI organization, it comes with strong support for machine learning and deep learning and the flexible numerical computation core is used across many other scientific domains.</p>\n"
   ]
  },
  {
   "cell_type": "markdown",
   "metadata": {},
   "source": [
    "# Getting Started"
   ]
  },
  {
   "cell_type": "markdown",
   "metadata": {},
   "source": [
    "## Installation\n",
    "\n",
    "        \n"
   ]
  },
  {
   "cell_type": "markdown",
   "metadata": {},
   "source": [
    "The <a href='https://www.tensorflow.org/install/' target='_blank' style=\"color:#ff6e4a;font-weight:bold; text-decoration:none;\">Tensorflow</a> installation guide has detailed instructions, but for those who want to quick and easy version...\n",
    "<br><br>\n",
    "    Open anaconda prompt and run:\n",
    "    <br>\n",
    "    $ pip install tensorflow==1.11\n",
    "    "
   ]
  },
  {
   "cell_type": "markdown",
   "metadata": {},
   "source": [
    "Likewise, the <a href='https://keras.io/#installation' target='_blank' style=\"color:red;font-weight:bold; text-decoration:none;\">Keras</a> installation guide has detailed instructions, but for those who want to quick and easy version...\n",
    "<br><br>\n",
    "    Open anaconda prompt and run:\n",
    "    <br>\n",
    "    $ pip install keras\n",
    "    "
   ]
  },
  {
   "cell_type": "markdown",
   "metadata": {},
   "source": [
    "<p>Keras is configured to use Tensorflow as the backend by default, <br>so for now we will only look at Keras</p>\n",
    "\n",
    "<p>For the first example, we will build a simple densely connected neural network for a regression task"
   ]
  },
  {
   "cell_type": "markdown",
   "metadata": {},
   "source": [
    "# First Model"
   ]
  },
  {
   "cell_type": "markdown",
   "metadata": {},
   "source": [
    "## Data\n",
    "<p><b>MNIST</b><br>\n",
    "    Classification of handwritten digits\n",
    "    \n",
    "   <img src='./data/mnist.png'/>\n",
    "   "
   ]
  },
  {
   "cell_type": "code",
   "execution_count": 27,
   "metadata": {},
   "outputs": [],
   "source": [
    "#If the data isn't already in keras/datasets it will download automatically \n",
    "from keras.datasets import mnist\n",
    "(x_train, y_train), (x_test, y_test) = mnist.load_data()"
   ]
  },
  {
   "cell_type": "code",
   "execution_count": 28,
   "metadata": {},
   "outputs": [
    {
     "name": "stdout",
     "output_type": "stream",
     "text": [
      "(60000, 28, 28) (60000,)\n",
      "(10000, 28, 28) (10000,)\n"
     ]
    }
   ],
   "source": [
    "print(x_train.shape, y_train.shape)\n",
    "print(x_test.shape, y_test.shape)"
   ]
  },
  {
   "cell_type": "code",
   "execution_count": 29,
   "metadata": {},
   "outputs": [
    {
     "name": "stdout",
     "output_type": "stream",
     "text": [
      "Label:  8\n"
     ]
    },
    {
     "data": {
      "image/png": "[encoded data removed]",
      "text/plain": [
       "<Figure size 432x288 with 1 Axes>"
      ]
     },
     "metadata": {},
     "output_type": "display_data"
    }
   ],
   "source": [
    "import matplotlib.pyplot as plt\n",
    "%matplotlib inline \n",
    "image_index = 7777 \n",
    "print('Label: ',y_train[image_index]) \n",
    "plt.imshow(x_train[image_index], cmap='Greys');"
   ]
  },
  {
   "cell_type": "markdown",
   "metadata": {},
   "source": [
    "## One Hot Encoding\n",
    "<p>\n",
    "    We will use the Keras utility to_categorical to one hot encode the labels"
   ]
  },
  {
   "cell_type": "code",
   "execution_count": 30,
   "metadata": {},
   "outputs": [
    {
     "name": "stdout",
     "output_type": "stream",
     "text": [
      "Help on function to_categorical in module keras.utils.np_utils:\n",
      "\n",
      "to_categorical(y, num_classes=None, dtype='float32')\n",
      "    Converts a class vector (integers) to binary class matrix.\n",
      "    \n",
      "    E.g. for use with categorical_crossentropy.\n",
      "    \n",
      "    # Arguments\n",
      "        y: class vector to be converted into a matrix\n",
      "            (integers from 0 to num_classes).\n",
      "        num_classes: total number of classes.\n",
      "        dtype: The data type expected by the input, as a string\n",
      "            (`float32`, `float64`, `int32`...)\n",
      "    \n",
      "    # Returns\n",
      "        A binary matrix representation of the input. The classes axis\n",
      "        is placed last.\n",
      "\n"
     ]
    }
   ],
   "source": [
    "from keras.utils.np_utils import to_categorical\n",
    "help(to_categorical)"
   ]
  },
  {
   "cell_type": "code",
   "execution_count": 31,
   "metadata": {},
   "outputs": [
    {
     "data": {
      "text/plain": [
       "8"
      ]
     },
     "execution_count": 31,
     "metadata": {},
     "output_type": "execute_result"
    }
   ],
   "source": [
    "#This is the label corresponding to index 7777\n",
    "y_train[7777]"
   ]
  },
  {
   "cell_type": "code",
   "execution_count": 32,
   "metadata": {},
   "outputs": [],
   "source": [
    "y_train = to_categorical(y_train)"
   ]
  },
  {
   "cell_type": "code",
   "execution_count": 33,
   "metadata": {},
   "outputs": [
    {
     "data": {
      "text/plain": [
       "array([0., 0., 0., 0., 0., 0., 0., 0., 1., 0.], dtype=float32)"
      ]
     },
     "execution_count": 33,
     "metadata": {},
     "output_type": "execute_result"
    }
   ],
   "source": [
    "#This is the label representation now\n",
    "y_train[7777]"
   ]
  },
  {
   "cell_type": "markdown",
   "metadata": {},
   "source": [
    "## Building the Model"
   ]
  },
  {
   "cell_type": "markdown",
   "metadata": {},
   "source": [
    "<p>For this example, we will build a densely connected neural network to classify the digits. The input layer will be a flattened representation of the pixel values. The output layer will be an array of probabilities corresponding to the labels<br><br> The image illustrates the architecture of the model, though we are going to do it a little differently\n",
    "    \n",
    "   <img src='./data/basic_dense_nn.png'>\n",
    "   \n",
    "   \n",
    "  "
   ]
  },
  {
   "cell_type": "code",
   "execution_count": 34,
   "metadata": {},
   "outputs": [
    {
     "name": "stdout",
     "output_type": "stream",
     "text": [
      "_________________________________________________________________\n",
      "Layer (type)                 Output Shape              Param #   \n",
      "=================================================================\n",
      "flatten_41 (Flatten)         (None, 784)               0         \n",
      "_________________________________________________________________\n",
      "dense_121 (Dense)            (None, 128)               100480    \n",
      "_________________________________________________________________\n",
      "dense_122 (Dense)            (None, 128)               16512     \n",
      "_________________________________________________________________\n",
      "dense_123 (Dense)            (None, 10)                1290      \n",
      "=================================================================\n",
      "Total params: 118,282\n",
      "Trainable params: 118,282\n",
      "Non-trainable params: 0\n",
      "_________________________________________________________________\n"
     ]
    }
   ],
   "source": [
    "from keras.models import Sequential\n",
    "\n",
    "#get an instance of a Sequential Model\n",
    "model = Sequential()\n",
    "\n",
    "from keras.layers import Dense, Flatten\n",
    "\n",
    "#add some layers to the model\n",
    "model.add(Flatten(input_shape=(28,28))) #Each image is 28x28 pixels. \n",
    "                                        #This layer autmatically flattens to 1d row, \n",
    "                                        #but does not have any parameters to learn\n",
    "        \n",
    "model.add(Dense(units=128, activation='sigmoid', input_dim=(784)))#This is the 'input' layer\n",
    "\n",
    "model.add(Dense(units=128, activation='sigmoid', input_dim=128))#This is a hidden layer\n",
    "\n",
    "model.add(Dense(units=10, activation='softmax', input_dim = 128))#This is the output layer\n",
    "\n",
    "model.compile(loss='categorical_crossentropy',\n",
    "              optimizer='sgd',\n",
    "              metrics=['accuracy'])\n",
    "\n",
    "model.summary()"
   ]
  },
  {
   "cell_type": "code",
   "execution_count": 35,
   "metadata": {
    "scrolled": true
   },
   "outputs": [
    {
     "name": "stdout",
     "output_type": "stream",
     "text": [
      "Train on 36000 samples, validate on 24000 samples\n",
      "Epoch 1/5\n",
      "36000/36000 [==============================] - 2s 50us/step - loss: 2.2671 - acc: 0.1852 - val_loss: 2.1928 - val_acc: 0.3355\n",
      "Epoch 2/5\n",
      "36000/36000 [==============================] - 1s 19us/step - loss: 2.1334 - acc: 0.4194 - val_loss: 2.0800 - val_acc: 0.4943\n",
      "Epoch 3/5\n",
      "36000/36000 [==============================] - 1s 18us/step - loss: 2.0276 - acc: 0.5376 - val_loss: 1.9791 - val_acc: 0.5695\n",
      "Epoch 4/5\n",
      "36000/36000 [==============================] - 1s 17us/step - loss: 1.9298 - acc: 0.6031 - val_loss: 1.8842 - val_acc: 0.6308\n",
      "Epoch 5/5\n",
      "36000/36000 [==============================] - 1s 18us/step - loss: 1.8352 - acc: 0.6529 - val_loss: 1.7885 - val_acc: 0.6710\n"
     ]
    }
   ],
   "source": [
    "history = model.fit(x_train, y_train, epochs=5, batch_size=500, validation_split=0.4) "
   ]
  },
  {
   "cell_type": "markdown",
   "metadata": {},
   "source": [
    "## Model Evaluation"
   ]
  },
  {
   "cell_type": "code",
   "execution_count": 36,
   "metadata": {},
   "outputs": [
    {
     "data": {
      "image/png": "[encoded data removed]",
      "text/plain": [
       "<Figure size 576x432 with 1 Axes>"
      ]
     },
     "metadata": {},
     "output_type": "display_data"
    }
   ],
   "source": [
    "import matplotlib.pyplot as plt\n",
    "import seaborn as sns\n",
    "sns.set()\n",
    "\n",
    "fig,ax = plt.subplots(figsize=(8,6))\n",
    "ax.set_title('MNIST NN Train History', fontsize=22)\n",
    "ax.plot(range(len(history.history['acc'])), history.history['acc'], label='train')\n",
    "ax.plot(range(len(history.history['acc'])), history.history['val_acc'], label='validate')\n",
    "ax.legend(fontsize=18)\n",
    "ax.set_ylim([0,1])\n",
    "plt.show()"
   ]
  },
  {
   "cell_type": "markdown",
   "metadata": {},
   "source": [
    "<p>Now we can classify images from the test set that have not yet been seen by the neural network "
   ]
  },
  {
   "cell_type": "code",
   "execution_count": 37,
   "metadata": {},
   "outputs": [
    {
     "name": "stdout",
     "output_type": "stream",
     "text": [
      "[0.08202358 0.07146173 0.07853314 0.11459566 0.08688799 0.07155532\n",
      " 0.0717948  0.23310107 0.07115496 0.11889173]\n"
     ]
    }
   ],
   "source": [
    "pred = model.predict(x_test)\n",
    "print(pred[0])"
   ]
  },
  {
   "cell_type": "markdown",
   "metadata": {},
   "source": [
    "<p>It's interesting to see the probabilities, but not really useful yet, so we will extract the index of the highest probability, which corresponds to the class"
   ]
  },
  {
   "cell_type": "code",
   "execution_count": 38,
   "metadata": {},
   "outputs": [],
   "source": [
    "import numpy as np\n",
    "predictions = [np.argmax(p) for p in pred]"
   ]
  },
  {
   "cell_type": "code",
   "execution_count": 39,
   "metadata": {},
   "outputs": [
    {
     "data": {
      "text/plain": [
       "7"
      ]
     },
     "execution_count": 39,
     "metadata": {},
     "output_type": "execute_result"
    }
   ],
   "source": [
    "predictions[0]"
   ]
  },
  {
   "cell_type": "markdown",
   "metadata": {},
   "source": [
    "<p>It would take a while to hand-check all of them, so we will use accuracy_score from sklearn to calculate a model accuracy"
   ]
  },
  {
   "cell_type": "code",
   "execution_count": 40,
   "metadata": {},
   "outputs": [
    {
     "name": "stdout",
     "output_type": "stream",
     "text": [
      "67.66%\n"
     ]
    }
   ],
   "source": [
    "from sklearn.metrics import accuracy_score\n",
    "acc = accuracy_score(y_test, predictions)\n",
    "print('{:.2%}'.format(acc))"
   ]
  },
  {
   "cell_type": "markdown",
   "metadata": {},
   "source": [
    "<hr>We can also see how well individual labels are predicted with a confusion matrix\n",
    "<br><br>\n",
    "Read sklearn's confusion matrix:<br>\n",
    "<b>column</b> => <b>predicted class</b><br>\n",
    "    <b>row</b> => <b>true class</b><br>\n",
    "    (This is backwards from other implementations, but will be demonstrated in the next notebook)"
   ]
  },
  {
   "cell_type": "code",
   "execution_count": 41,
   "metadata": {},
   "outputs": [
    {
     "data": {
      "text/html": [
       "<div>\n",
       "<style scoped>\n",
       "    .dataframe tbody tr th:only-of-type {\n",
       "        vertical-align: middle;\n",
       "    }\n",
       "\n",
       "    .dataframe tbody tr th {\n",
       "        vertical-align: top;\n",
       "    }\n",
       "\n",
       "    .dataframe thead th {\n",
       "        text-align: right;\n",
       "    }\n",
       "</style>\n",
       "<table border=\"1\" class=\"dataframe\">\n",
       "  <thead>\n",
       "    <tr style=\"text-align: right;\">\n",
       "      <th></th>\n",
       "      <th>0</th>\n",
       "      <th>1</th>\n",
       "      <th>2</th>\n",
       "      <th>3</th>\n",
       "      <th>4</th>\n",
       "      <th>5</th>\n",
       "      <th>6</th>\n",
       "      <th>7</th>\n",
       "      <th>8</th>\n",
       "      <th>9</th>\n",
       "    </tr>\n",
       "  </thead>\n",
       "  <tbody>\n",
       "    <tr>\n",
       "      <th>0</th>\n",
       "      <td>938</td>\n",
       "      <td>2</td>\n",
       "      <td>3</td>\n",
       "      <td>4</td>\n",
       "      <td>0</td>\n",
       "      <td>4</td>\n",
       "      <td>14</td>\n",
       "      <td>12</td>\n",
       "      <td>0</td>\n",
       "      <td>3</td>\n",
       "    </tr>\n",
       "    <tr>\n",
       "      <th>1</th>\n",
       "      <td>0</td>\n",
       "      <td>1117</td>\n",
       "      <td>4</td>\n",
       "      <td>3</td>\n",
       "      <td>0</td>\n",
       "      <td>0</td>\n",
       "      <td>2</td>\n",
       "      <td>2</td>\n",
       "      <td>6</td>\n",
       "      <td>1</td>\n",
       "    </tr>\n",
       "    <tr>\n",
       "      <th>2</th>\n",
       "      <td>86</td>\n",
       "      <td>214</td>\n",
       "      <td>566</td>\n",
       "      <td>46</td>\n",
       "      <td>26</td>\n",
       "      <td>0</td>\n",
       "      <td>41</td>\n",
       "      <td>29</td>\n",
       "      <td>23</td>\n",
       "      <td>1</td>\n",
       "    </tr>\n",
       "    <tr>\n",
       "      <th>3</th>\n",
       "      <td>55</td>\n",
       "      <td>70</td>\n",
       "      <td>14</td>\n",
       "      <td>767</td>\n",
       "      <td>3</td>\n",
       "      <td>3</td>\n",
       "      <td>11</td>\n",
       "      <td>49</td>\n",
       "      <td>15</td>\n",
       "      <td>23</td>\n",
       "    </tr>\n",
       "    <tr>\n",
       "      <th>4</th>\n",
       "      <td>24</td>\n",
       "      <td>43</td>\n",
       "      <td>10</td>\n",
       "      <td>11</td>\n",
       "      <td>556</td>\n",
       "      <td>2</td>\n",
       "      <td>67</td>\n",
       "      <td>22</td>\n",
       "      <td>11</td>\n",
       "      <td>236</td>\n",
       "    </tr>\n",
       "    <tr>\n",
       "      <th>5</th>\n",
       "      <td>123</td>\n",
       "      <td>61</td>\n",
       "      <td>17</td>\n",
       "      <td>235</td>\n",
       "      <td>20</td>\n",
       "      <td>201</td>\n",
       "      <td>49</td>\n",
       "      <td>62</td>\n",
       "      <td>18</td>\n",
       "      <td>106</td>\n",
       "    </tr>\n",
       "    <tr>\n",
       "      <th>6</th>\n",
       "      <td>55</td>\n",
       "      <td>25</td>\n",
       "      <td>26</td>\n",
       "      <td>1</td>\n",
       "      <td>15</td>\n",
       "      <td>1</td>\n",
       "      <td>830</td>\n",
       "      <td>4</td>\n",
       "      <td>1</td>\n",
       "      <td>0</td>\n",
       "    </tr>\n",
       "    <tr>\n",
       "      <th>7</th>\n",
       "      <td>6</td>\n",
       "      <td>70</td>\n",
       "      <td>13</td>\n",
       "      <td>12</td>\n",
       "      <td>11</td>\n",
       "      <td>0</td>\n",
       "      <td>1</td>\n",
       "      <td>882</td>\n",
       "      <td>10</td>\n",
       "      <td>23</td>\n",
       "    </tr>\n",
       "    <tr>\n",
       "      <th>8</th>\n",
       "      <td>62</td>\n",
       "      <td>139</td>\n",
       "      <td>6</td>\n",
       "      <td>256</td>\n",
       "      <td>24</td>\n",
       "      <td>11</td>\n",
       "      <td>33</td>\n",
       "      <td>37</td>\n",
       "      <td>323</td>\n",
       "      <td>83</td>\n",
       "    </tr>\n",
       "    <tr>\n",
       "      <th>9</th>\n",
       "      <td>32</td>\n",
       "      <td>21</td>\n",
       "      <td>24</td>\n",
       "      <td>36</td>\n",
       "      <td>130</td>\n",
       "      <td>5</td>\n",
       "      <td>6</td>\n",
       "      <td>159</td>\n",
       "      <td>10</td>\n",
       "      <td>586</td>\n",
       "    </tr>\n",
       "  </tbody>\n",
       "</table>\n",
       "</div>"
      ],
      "text/plain": [
       "     0     1    2    3    4    5    6    7    8    9\n",
       "0  938     2    3    4    0    4   14   12    0    3\n",
       "1    0  1117    4    3    0    0    2    2    6    1\n",
       "2   86   214  566   46   26    0   41   29   23    1\n",
       "3   55    70   14  767    3    3   11   49   15   23\n",
       "4   24    43   10   11  556    2   67   22   11  236\n",
       "5  123    61   17  235   20  201   49   62   18  106\n",
       "6   55    25   26    1   15    1  830    4    1    0\n",
       "7    6    70   13   12   11    0    1  882   10   23\n",
       "8   62   139    6  256   24   11   33   37  323   83\n",
       "9   32    21   24   36  130    5    6  159   10  586"
      ]
     },
     "execution_count": 41,
     "metadata": {},
     "output_type": "execute_result"
    }
   ],
   "source": [
    "import pandas as pd\n",
    "from sklearn.metrics import confusion_matrix\n",
    "pd.DataFrame(confusion_matrix(y_test, predictions), columns=[0,1,2,3,4,5,6,7,8,9])"
   ]
  },
  {
   "cell_type": "markdown",
   "metadata": {},
   "source": [
    "## Improvements"
   ]
  },
  {
   "cell_type": "markdown",
   "metadata": {},
   "source": [
    "### Grid Search CV"
   ]
  },
  {
   "cell_type": "markdown",
   "metadata": {},
   "source": [
    "<p>One of the easiest improvements to make is to find a good ratio between batch size and epochs. <br><br>\n",
    "The <b>batch size</b> is the number of training examples that contribute to each parameter update <br><br>\n",
    "<b>Epochs</b> refers to the number of iterations over the entire (training) dataset<br><br>\n",
    "    <hr>\n",
    "Rather than guess and check over and over, we can employ a grid search in which all combinations of parameters entered are \n",
    "tested\n",
    "    \n"
   ]
  },
  {
   "cell_type": "markdown",
   "metadata": {},
   "source": [
    "First, we have to write a function to return a compiled model"
   ]
  },
  {
   "cell_type": "code",
   "execution_count": 42,
   "metadata": {},
   "outputs": [],
   "source": [
    "def build_model():\n",
    "    '''\n",
    "    Returns a compiled model    \n",
    "    '''\n",
    "    from keras.models import Sequential\n",
    "    from keras.layers import Dense, Flatten\n",
    "\n",
    "    #get an instance of a Sequential Model\n",
    "    model = Sequential()\n",
    "\n",
    "    #add some layers to the model\n",
    "    model.add(Flatten(input_shape=(28,28))) \n",
    "    model.add(Dense(units=128, activation='sigmoid', input_dim=(784)))\n",
    "    model.add(Dense(units=128, activation='sigmoid', input_dim=128))\n",
    "    model.add(Dense(units=10, activation='softmax', input_dim = 128))\n",
    "    \n",
    "    #compile the model\n",
    "    model.compile(loss='categorical_crossentropy',\n",
    "                  optimizer='sgd',\n",
    "                  metrics=['accuracy'])\n",
    "\n",
    "    return model\n",
    "    "
   ]
  },
  {
   "cell_type": "markdown",
   "metadata": {},
   "source": [
    "Next, we have to define a dictionary of parameters to try"
   ]
  },
  {
   "cell_type": "code",
   "execution_count": 43,
   "metadata": {},
   "outputs": [
    {
     "data": {
      "text/plain": [
       "{'epochs': [1, 10, 25], 'batch_size': [50, 100, 500, 1000]}"
      ]
     },
     "execution_count": 43,
     "metadata": {},
     "output_type": "execute_result"
    }
   ],
   "source": [
    "# grid search epochs, batch size\n",
    "epochs = [1, 10, 25]\n",
    "batch_size = [50, 100, 500, 1000]\n",
    "param_grid = dict(epochs=epochs, batch_size=batch_size)\n",
    "param_grid"
   ]
  },
  {
   "cell_type": "markdown",
   "metadata": {},
   "source": [
    "<p>Now we can use SciKit-Learn GridSearchCV to iterate over combinations of parameters"
   ]
  },
  {
   "cell_type": "code",
   "execution_count": 44,
   "metadata": {},
   "outputs": [],
   "source": [
    "from sklearn.model_selection import GridSearchCV\n",
    "from keras.wrappers.scikit_learn import KerasClassifier\n",
    "\n",
    "# create model\n",
    "model = KerasClassifier(build_fn=build_model, verbose=0) # use verbose=0 if you do not want to see progress\n",
    "\n",
    "grid = GridSearchCV(estimator=model, param_grid=param_grid)\n",
    "grid_result = grid.fit(x_train, y_train) "
   ]
  },
  {
   "cell_type": "code",
   "execution_count": 45,
   "metadata": {},
   "outputs": [
    {
     "name": "stdout",
     "output_type": "stream",
     "text": [
      "Best: 0.939150 using {'batch_size': 50, 'epochs': 25}\n",
      "0.780283 (0.018610) with: {'batch_size': 50, 'epochs': 1}\n",
      "0.919633 (0.004460) with: {'batch_size': 50, 'epochs': 10}\n",
      "0.939150 (0.001728) with: {'batch_size': 50, 'epochs': 25}\n",
      "0.672167 (0.016967) with: {'batch_size': 100, 'epochs': 1}\n",
      "0.902683 (0.003021) with: {'batch_size': 100, 'epochs': 10}\n",
      "0.928967 (0.002311) with: {'batch_size': 100, 'epochs': 25}\n",
      "0.371233 (0.029196) with: {'batch_size': 500, 'epochs': 1}\n",
      "0.788683 (0.006920) with: {'batch_size': 500, 'epochs': 10}\n",
      "0.870667 (0.003411) with: {'batch_size': 500, 'epochs': 25}\n",
      "0.187517 (0.018480) with: {'batch_size': 1000, 'epochs': 1}\n",
      "0.686300 (0.011576) with: {'batch_size': 1000, 'epochs': 10}\n",
      "0.815083 (0.008107) with: {'batch_size': 1000, 'epochs': 25}\n"
     ]
    }
   ],
   "source": [
    "# summarize results\n",
    "print(\"Best: %f using %s\" % (grid_result.best_score_, grid_result.best_params_))\n",
    "means = grid_result.cv_results_['mean_test_score']\n",
    "stds = grid_result.cv_results_['std_test_score']\n",
    "params = grid_result.cv_results_['params']\n",
    "for mean, stdev, param in zip(means, stds, params):\n",
    "    print(\"%f (%f) with: %r\" % (mean, stdev, param))"
   ]
  },
  {
   "cell_type": "markdown",
   "metadata": {},
   "source": [
    "## Exercise\n",
    "<p>\n",
    "    Keras provides a wide variety of <a href=\"https://keras.io/activations/\" target=_blank>Activation Functions</a>, <a href=\"https://keras.io/losses/\" target=_blank>Losses</a>, \n",
    "<a href=\"https://keras.io/metrics/\" target=_blank>Metrics</a> & <a href=\"https://keras.io/optimizers/\" target=_blank>Optimizers</a>\n",
    "    \n",
    "   <div> <img  src='./data/saddle_point_evaluation_optimizers.gif'>\n",
    "    </div>\n",
    "    \n",
    "<br><p >Experiment with a few of them on the previous examples to build a better classification model "
   ]
  },
  {
   "cell_type": "markdown",
   "metadata": {},
   "source": [
    "## Solution"
   ]
  },
  {
   "cell_type": "code",
   "execution_count": 61,
   "metadata": {},
   "outputs": [],
   "source": [
    "def build_model():\n",
    "    '''\n",
    "    Returns a compiled model    \n",
    "    '''\n",
    "    from keras.models import Sequential\n",
    "    from keras.layers import Dense, Flatten\n",
    "\n",
    "    #get an instance of a Sequential Model\n",
    "    model = Sequential()\n",
    "\n",
    "    #add some layers to the model\n",
    "    model.add(Flatten(input_shape=(28,28))) \n",
    "    model.add(Dense(units=128, activation='sigmoid', input_dim=(784)))\n",
    "    model.add(Dense(units=128, activation='sigmoid', input_dim=128))\n",
    "    model.add(Dense(units=10, activation='softmax', input_dim = 128))\n",
    "    \n",
    "    #compile the model\n",
    "    model.compile(loss='categorical_hinge',\n",
    "                  optimizer='Adagrad',\n",
    "                  metrics=['accuracy'])\n",
    "\n",
    "    return model\n",
    "    "
   ]
  },
  {
   "cell_type": "code",
   "execution_count": 62,
   "metadata": {},
   "outputs": [],
   "source": [
    "model = build_model()\n",
    "history = model.fit(x_train, y_train, epochs=25, batch_size=50, validation_split=.4, verbose=0)"
   ]
  },
  {
   "cell_type": "code",
   "execution_count": 63,
   "metadata": {},
   "outputs": [
    {
     "data": {
      "image/png": "[encoded data removed]",
      "text/plain": [
       "<Figure size 576x432 with 1 Axes>"
      ]
     },
     "metadata": {},
     "output_type": "display_data"
    }
   ],
   "source": [
    "import matplotlib.pyplot as plt\n",
    "import seaborn as sns\n",
    "sns.set()\n",
    "\n",
    "fig,ax = plt.subplots(figsize=(8,6))\n",
    "ax.set_title('MNIST NN Train History', fontsize=22)\n",
    "ax.plot(range(len(history.history['acc'])), history.history['acc'], label='train')\n",
    "ax.plot(range(len(history.history['acc'])), history.history['val_acc'], label='validate')\n",
    "ax.legend(fontsize=18)\n",
    "ax.set_ylim([0,1])\n",
    "plt.show()"
   ]
  },
  {
   "cell_type": "code",
   "execution_count": 64,
   "metadata": {},
   "outputs": [
    {
     "name": "stdout",
     "output_type": "stream",
     "text": [
      "93.88%\n"
     ]
    }
   ],
   "source": [
    "pred = model.predict(x_test)\n",
    "predictions = [np.argmax(p) for p in pred]\n",
    "print('{:.2%}'.format(accuracy_score(y_test, predictions)))"
   ]
  },
  {
   "cell_type": "code",
   "execution_count": 65,
   "metadata": {},
   "outputs": [
    {
     "data": {
      "text/html": [
       "<div>\n",
       "<style scoped>\n",
       "    .dataframe tbody tr th:only-of-type {\n",
       "        vertical-align: middle;\n",
       "    }\n",
       "\n",
       "    .dataframe tbody tr th {\n",
       "        vertical-align: top;\n",
       "    }\n",
       "\n",
       "    .dataframe thead th {\n",
       "        text-align: right;\n",
       "    }\n",
       "</style>\n",
       "<table border=\"1\" class=\"dataframe\">\n",
       "  <thead>\n",
       "    <tr style=\"text-align: right;\">\n",
       "      <th></th>\n",
       "      <th>0</th>\n",
       "      <th>1</th>\n",
       "      <th>2</th>\n",
       "      <th>3</th>\n",
       "      <th>4</th>\n",
       "      <th>5</th>\n",
       "      <th>6</th>\n",
       "      <th>7</th>\n",
       "      <th>8</th>\n",
       "      <th>9</th>\n",
       "    </tr>\n",
       "  </thead>\n",
       "  <tbody>\n",
       "    <tr>\n",
       "      <th>0</th>\n",
       "      <td>966</td>\n",
       "      <td>0</td>\n",
       "      <td>1</td>\n",
       "      <td>1</td>\n",
       "      <td>0</td>\n",
       "      <td>3</td>\n",
       "      <td>4</td>\n",
       "      <td>2</td>\n",
       "      <td>3</td>\n",
       "      <td>0</td>\n",
       "    </tr>\n",
       "    <tr>\n",
       "      <th>1</th>\n",
       "      <td>0</td>\n",
       "      <td>1110</td>\n",
       "      <td>5</td>\n",
       "      <td>4</td>\n",
       "      <td>2</td>\n",
       "      <td>2</td>\n",
       "      <td>4</td>\n",
       "      <td>1</td>\n",
       "      <td>7</td>\n",
       "      <td>0</td>\n",
       "    </tr>\n",
       "    <tr>\n",
       "      <th>2</th>\n",
       "      <td>8</td>\n",
       "      <td>1</td>\n",
       "      <td>958</td>\n",
       "      <td>7</td>\n",
       "      <td>7</td>\n",
       "      <td>3</td>\n",
       "      <td>11</td>\n",
       "      <td>15</td>\n",
       "      <td>20</td>\n",
       "      <td>2</td>\n",
       "    </tr>\n",
       "    <tr>\n",
       "      <th>3</th>\n",
       "      <td>1</td>\n",
       "      <td>0</td>\n",
       "      <td>22</td>\n",
       "      <td>929</td>\n",
       "      <td>1</td>\n",
       "      <td>18</td>\n",
       "      <td>0</td>\n",
       "      <td>9</td>\n",
       "      <td>20</td>\n",
       "      <td>10</td>\n",
       "    </tr>\n",
       "    <tr>\n",
       "      <th>4</th>\n",
       "      <td>2</td>\n",
       "      <td>1</td>\n",
       "      <td>6</td>\n",
       "      <td>0</td>\n",
       "      <td>923</td>\n",
       "      <td>0</td>\n",
       "      <td>10</td>\n",
       "      <td>5</td>\n",
       "      <td>7</td>\n",
       "      <td>28</td>\n",
       "    </tr>\n",
       "    <tr>\n",
       "      <th>5</th>\n",
       "      <td>11</td>\n",
       "      <td>2</td>\n",
       "      <td>3</td>\n",
       "      <td>23</td>\n",
       "      <td>8</td>\n",
       "      <td>806</td>\n",
       "      <td>15</td>\n",
       "      <td>4</td>\n",
       "      <td>15</td>\n",
       "      <td>5</td>\n",
       "    </tr>\n",
       "    <tr>\n",
       "      <th>6</th>\n",
       "      <td>8</td>\n",
       "      <td>3</td>\n",
       "      <td>5</td>\n",
       "      <td>1</td>\n",
       "      <td>3</td>\n",
       "      <td>13</td>\n",
       "      <td>921</td>\n",
       "      <td>2</td>\n",
       "      <td>2</td>\n",
       "      <td>0</td>\n",
       "    </tr>\n",
       "    <tr>\n",
       "      <th>7</th>\n",
       "      <td>2</td>\n",
       "      <td>7</td>\n",
       "      <td>24</td>\n",
       "      <td>6</td>\n",
       "      <td>7</td>\n",
       "      <td>2</td>\n",
       "      <td>1</td>\n",
       "      <td>962</td>\n",
       "      <td>1</td>\n",
       "      <td>16</td>\n",
       "    </tr>\n",
       "    <tr>\n",
       "      <th>8</th>\n",
       "      <td>6</td>\n",
       "      <td>3</td>\n",
       "      <td>7</td>\n",
       "      <td>13</td>\n",
       "      <td>10</td>\n",
       "      <td>14</td>\n",
       "      <td>10</td>\n",
       "      <td>8</td>\n",
       "      <td>898</td>\n",
       "      <td>5</td>\n",
       "    </tr>\n",
       "    <tr>\n",
       "      <th>9</th>\n",
       "      <td>8</td>\n",
       "      <td>5</td>\n",
       "      <td>0</td>\n",
       "      <td>12</td>\n",
       "      <td>33</td>\n",
       "      <td>9</td>\n",
       "      <td>1</td>\n",
       "      <td>12</td>\n",
       "      <td>14</td>\n",
       "      <td>915</td>\n",
       "    </tr>\n",
       "  </tbody>\n",
       "</table>\n",
       "</div>"
      ],
      "text/plain": [
       "     0     1    2    3    4    5    6    7    8    9\n",
       "0  966     0    1    1    0    3    4    2    3    0\n",
       "1    0  1110    5    4    2    2    4    1    7    0\n",
       "2    8     1  958    7    7    3   11   15   20    2\n",
       "3    1     0   22  929    1   18    0    9   20   10\n",
       "4    2     1    6    0  923    0   10    5    7   28\n",
       "5   11     2    3   23    8  806   15    4   15    5\n",
       "6    8     3    5    1    3   13  921    2    2    0\n",
       "7    2     7   24    6    7    2    1  962    1   16\n",
       "8    6     3    7   13   10   14   10    8  898    5\n",
       "9    8     5    0   12   33    9    1   12   14  915"
      ]
     },
     "execution_count": 65,
     "metadata": {},
     "output_type": "execute_result"
    }
   ],
   "source": [
    "pd.DataFrame(confusion_matrix(y_test, predictions), columns=[0,1,2,3,4,5,6,7,8,9])"
   ]
  },
  {
   "cell_type": "code",
   "execution_count": null,
   "metadata": {},
   "outputs": [],
   "source": []
  }
 ],
 "metadata": {
  "kernelspec": {
   "display_name": "Python 3",
   "language": "python",
   "name": "python3"
  },
  "language_info": {
   "codemirror_mode": {
    "name": "ipython",
    "version": 3
   },
   "file_extension": ".py",
   "mimetype": "text/x-python",
   "name": "python",
   "nbconvert_exporter": "python",
   "pygments_lexer": "ipython3",
   "version": "3.6.5"
  }
 },
 "nbformat": 4,
 "nbformat_minor": 2
}
